{
 "cells": [
  {
   "cell_type": "markdown",
   "metadata": {
    "id": "fZXxpAUBjMTp"
   },
   "source": [
    "\n",
    "# **나의 해방일지**\n",
    "\n",
    "---\n",
    "\n",
    "# 12월 11일 <br>\n",
    "지금껏 CNN 모델을 이용하였는데, 문제에서 Fully Connected Network을 사용해야한다는 사실을 식별하였다. \n",
    "그래서 Fully connected Network을 만들고, CNN 모델과 성능을 비교해보고자 한다.\n",
    "## 과정\n",
    "1. Fully Connected Network은 총 4개 layer에 함수는 ReLU 함수를 사용하고, 각 layer을 통과할 때마다 batchnormalization을 거치게 하였다.\n",
    "2. optimizer은 adam을 사용하였고, 총 epoch은 30을 사용하였다.\n",
    "\n",
    "##결론 \n",
    "\n",
    "CNN 모델보다 Accuracy가 낮지만 inference을 할 것이다.<br>\n",
    "Accuracy: 98.24\n"
   ]
  },
  {
   "cell_type": "code",
   "execution_count": 32,
   "metadata": {
    "executionInfo": {
     "elapsed": 9,
     "status": "ok",
     "timestamp": 1671631616316,
     "user": {
      "displayName": "최종현",
      "userId": "11012889710026183783"
     },
     "user_tz": -540
    },
    "id": "32t_CKWbzFAv"
   },
   "outputs": [],
   "source": [
    "import torch\n",
    "from torch import nn\n",
    "from torchvision import datasets, transforms \n",
    "import numpy as np\n",
    "import matplotlib.pyplot as plt"
   ]
  },
  {
   "cell_type": "code",
   "execution_count": 2,
   "metadata": {
    "colab": {
     "base_uri": "https://localhost:8080/"
    },
    "executionInfo": {
     "elapsed": 19897,
     "status": "ok",
     "timestamp": 1671630796618,
     "user": {
      "displayName": "최종현",
      "userId": "11012889710026183783"
     },
     "user_tz": -540
    },
    "id": "0RrarFjIifil",
    "outputId": "f7a4b26c-c514-44e3-8313-89cf0a4d67bc"
   },
   "outputs": [
    {
     "name": "stdout",
     "output_type": "stream",
     "text": [
      "Mounted at /content/drive\n"
     ]
    }
   ],
   "source": [
    "from google.colab import drive\n",
    "drive.mount('/content/drive')"
   ]
  },
  {
   "cell_type": "code",
   "execution_count": 33,
   "metadata": {
    "executionInfo": {
     "elapsed": 10,
     "status": "ok",
     "timestamp": 1671631621376,
     "user": {
      "displayName": "최종현",
      "userId": "11012889710026183783"
     },
     "user_tz": -540
    },
    "id": "1xuHNyYrzQjt"
   },
   "outputs": [],
   "source": [
    "%config InlineBackend.figure_format='retina'"
   ]
  },
  {
   "cell_type": "code",
   "execution_count": 34,
   "metadata": {
    "colab": {
     "base_uri": "https://localhost:8080/"
    },
    "executionInfo": {
     "elapsed": 6,
     "status": "ok",
     "timestamp": 1671631621376,
     "user": {
      "displayName": "최종현",
      "userId": "11012889710026183783"
     },
     "user_tz": -540
    },
    "id": "VmV9doQpze6D",
    "outputId": "e8684a34-7ea7-48f1-a6fe-39f9ce74e67f"
   },
   "outputs": [
    {
     "data": {
      "text/plain": [
       "<torch._C.Generator at 0x7fc7b5b70d50>"
      ]
     },
     "execution_count": 34,
     "metadata": {},
     "output_type": "execute_result"
    }
   ],
   "source": [
    "torch.manual_seed(316)"
   ]
  },
  {
   "cell_type": "code",
   "execution_count": 57,
   "metadata": {
    "executionInfo": {
     "elapsed": 4,
     "status": "ok",
     "timestamp": 1671631899900,
     "user": {
      "displayName": "최종현",
      "userId": "11012889710026183783"
     },
     "user_tz": -540
    },
    "id": "-g9pJ6FmzoWB"
   },
   "outputs": [],
   "source": [
    "transform = transforms.Compose(\n",
    "  [\n",
    "    transforms.ToTensor(),\n",
    "    transforms.Normalize((0.1307), (0.3081)),\n",
    "] )"
   ]
  },
  {
   "cell_type": "code",
   "execution_count": 58,
   "metadata": {
    "executionInfo": {
     "elapsed": 4,
     "status": "ok",
     "timestamp": 1671631899901,
     "user": {
      "displayName": "최종현",
      "userId": "11012889710026183783"
     },
     "user_tz": -540
    },
    "id": "IC84Wc7fz-CD"
   },
   "outputs": [],
   "source": [
    "dataset=datasets.MNIST('.',download=True,train=True,transform=transform)"
   ]
  },
  {
   "cell_type": "code",
   "execution_count": 59,
   "metadata": {
    "executionInfo": {
     "elapsed": 3,
     "status": "ok",
     "timestamp": 1671631899901,
     "user": {
      "displayName": "최종현",
      "userId": "11012889710026183783"
     },
     "user_tz": -540
    },
    "id": "-kzIwqCu0I9K"
   },
   "outputs": [],
   "source": [
    "len_trainset = int(len(dataset) * 0.8)\n",
    "len_valset = len(dataset) - len_trainset\n",
    "trainset, valset = torch.utils.data.random_split(dataset, [len_trainset, len_valset])"
   ]
  },
  {
   "cell_type": "code",
   "execution_count": 60,
   "metadata": {
    "executionInfo": {
     "elapsed": 3,
     "status": "ok",
     "timestamp": 1671631899901,
     "user": {
      "displayName": "최종현",
      "userId": "11012889710026183783"
     },
     "user_tz": -540
    },
    "id": "WK6wd0PI0YIS"
   },
   "outputs": [],
   "source": [
    "batch_size = 64\n",
    "trainloader = torch.utils.data.DataLoader(\n",
    "    trainset, batch_size=batch_size, shuffle=True\n",
    ")"
   ]
  },
  {
   "cell_type": "code",
   "execution_count": 61,
   "metadata": {
    "executionInfo": {
     "elapsed": 4,
     "status": "ok",
     "timestamp": 1671631900219,
     "user": {
      "displayName": "최종현",
      "userId": "11012889710026183783"
     },
     "user_tz": -540
    },
    "id": "u3xppt7i0mf1"
   },
   "outputs": [],
   "source": [
    "valloader = torch.utils.data.DataLoader(\n",
    "  valset,\n",
    "  batch_size=batch_size,\n",
    "  shuffle=True )"
   ]
  },
  {
   "cell_type": "code",
   "execution_count": 62,
   "metadata": {
    "colab": {
     "base_uri": "https://localhost:8080/"
    },
    "executionInfo": {
     "elapsed": 6,
     "status": "ok",
     "timestamp": 1671631901725,
     "user": {
      "displayName": "최종현",
      "userId": "11012889710026183783"
     },
     "user_tz": -540
    },
    "id": "LZ9ecHPf1Li3",
    "outputId": "c1415ae4-4cf7-4def-b2f2-005d63ca3f24"
   },
   "outputs": [
    {
     "data": {
      "text/plain": [
       "torch.Size([64, 1, 28, 28])"
      ]
     },
     "execution_count": 62,
     "metadata": {},
     "output_type": "execute_result"
    }
   ],
   "source": [
    "images, labels = next(iter(trainloader))\n",
    "images.shape"
   ]
  },
  {
   "cell_type": "code",
   "execution_count": 68,
   "metadata": {
    "colab": {
     "base_uri": "https://localhost:8080/"
    },
    "executionInfo": {
     "elapsed": 16,
     "status": "ok",
     "timestamp": 1671632418347,
     "user": {
      "displayName": "최종현",
      "userId": "11012889710026183783"
     },
     "user_tz": -540
    },
    "id": "RK956lyV3qhs",
    "outputId": "3af957df-1391-4071-9037-0864ed2fdc2f"
   },
   "outputs": [
    {
     "name": "stdout",
     "output_type": "stream",
     "text": [
      "fcn(\n",
      "  (linear): Sequential(\n",
      "    (0): Linear(in_features=784, out_features=512, bias=True)\n",
      "    (1): BatchNorm1d(512, eps=1e-05, momentum=0.1, affine=True, track_running_stats=True)\n",
      "    (2): ReLU()\n",
      "    (3): Linear(in_features=512, out_features=256, bias=True)\n",
      "    (4): BatchNorm1d(256, eps=1e-05, momentum=0.1, affine=True, track_running_stats=True)\n",
      "    (5): ReLU()\n",
      "    (6): Linear(in_features=256, out_features=128, bias=True)\n",
      "    (7): BatchNorm1d(128, eps=1e-05, momentum=0.1, affine=True, track_running_stats=True)\n",
      "    (8): ReLU()\n",
      "    (9): Linear(in_features=128, out_features=64, bias=True)\n",
      "  )\n",
      ")\n"
     ]
    }
   ],
   "source": [
    "class fcn(nn.Module):\n",
    "\n",
    "    def __init__(self):\n",
    "        super().__init__()\n",
    "         \n",
    "        self.linear = nn.Sequential(\n",
    "            nn.Linear(784, 512),\n",
    "            nn.BatchNorm1d(512),\n",
    "            nn.ReLU(),\n",
    "            nn.Linear(512, 256),\n",
    "            nn.BatchNorm1d(256),\n",
    "            nn.ReLU(),\n",
    "            nn.Linear(256, 128),\n",
    "            nn.BatchNorm1d(128),\n",
    "            nn.ReLU(),\n",
    "            nn.Linear(128, 64)\n",
    "        )\n",
    " \n",
    "    def forward(self, x):\n",
    "        model = self.linear(x)\n",
    "        return model\n",
    "\n",
    "model = fcn()\n",
    "print(model)"
   ]
  },
  {
   "cell_type": "code",
   "execution_count": 70,
   "metadata": {
    "colab": {
     "base_uri": "https://localhost:8080/"
    },
    "executionInfo": {
     "elapsed": 6,
     "status": "ok",
     "timestamp": 1671632425080,
     "user": {
      "displayName": "최종현",
      "userId": "11012889710026183783"
     },
     "user_tz": -540
    },
    "id": "I77rlN680tiU",
    "outputId": "39f68ac2-9794-434e-9032-a2c147848240"
   },
   "outputs": [
    {
     "data": {
      "text/plain": [
       "{0: '0 - zero',\n",
       " 1: '1 - one',\n",
       " 2: '2 - two',\n",
       " 3: '3 - three',\n",
       " 4: '4 - four',\n",
       " 5: '5 - five',\n",
       " 6: '6 - six',\n",
       " 7: '7 - seven',\n",
       " 8: '8 - eight',\n",
       " 9: '9 - nine'}"
      ]
     },
     "execution_count": 70,
     "metadata": {},
     "output_type": "execute_result"
    }
   ],
   "source": [
    " idx_to_class = { v:k for k, v in trainset.dataset.class_to_idx.items() } \n",
    " idx_to_class"
   ]
  },
  {
   "cell_type": "code",
   "execution_count": 71,
   "metadata": {
    "colab": {
     "base_uri": "https://localhost:8080/",
     "height": 225
    },
    "executionInfo": {
     "elapsed": 698,
     "status": "ok",
     "timestamp": 1671632427422,
     "user": {
      "displayName": "최종현",
      "userId": "11012889710026183783"
     },
     "user_tz": -540
    },
    "id": "0kF0rGz31VwX",
    "outputId": "f5f3fbda-dce4-4be4-a055-634099e4f9f8"
   },
   "outputs": [
    {
     "data": {
      "image/png": "[encoded data removed]",
      "text/plain": [
       "<Figure size 216x216 with 1 Axes>"
      ]
     },
     "metadata": {
      "image/png": {
       "height": 209,
       "width": 197
      },
      "needs_background": "light"
     },
     "output_type": "display_data"
    }
   ],
   "source": [
    "fig, ax = plt.subplots(figsize=(3,3))\n",
    "img_idx = 0\n",
    "label = idx_to_class[int(labels[0])]\n",
    "ax.imshow(images[0][0], cmap=\"gray\")\n",
    "ax.set_title(f\"Label: {label}\")\n",
    "plt.show()"
   ]
  },
  {
   "cell_type": "code",
   "execution_count": 72,
   "metadata": {
    "colab": {
     "base_uri": "https://localhost:8080/",
     "height": 375
    },
    "executionInfo": {
     "elapsed": 531,
     "status": "ok",
     "timestamp": 1671632427948,
     "user": {
      "displayName": "최종현",
      "userId": "11012889710026183783"
     },
     "user_tz": -540
    },
    "id": "yuAuZMjf2gyB",
    "outputId": "c4b9dfff-ab07-413e-f316-1c8e8ff7859c"
   },
   "outputs": [
    {
     "data": {
      "image/png": "[encoded data removed]",
      "text/plain": [
       "<Figure size 864x432 with 15 Axes>"
      ]
     },
     "metadata": {
      "image/png": {
       "height": 359,
       "width": 667
      }
     },
     "output_type": "display_data"
    }
   ],
   "source": [
    "fig, ax = plt.subplots(ncols=5, nrows=3, figsize=(12,6))\n",
    "ax = np.ravel(ax)\n",
    "for index in range(15): \n",
    "  ax[index].imshow(images[index][0], cmap=\"gray\")\n",
    "  label = idx_to_class[int(labels[index])] \n",
    "  ax[index].set_title(f\"Label: {label}\") \n",
    "  ax[index].set_xticks([]) \n",
    "  ax[index].set_yticks([])\n",
    "plt.show()"
   ]
  },
  {
   "cell_type": "code",
   "execution_count": 73,
   "metadata": {
    "colab": {
     "base_uri": "https://localhost:8080/"
    },
    "executionInfo": {
     "elapsed": 7,
     "status": "ok",
     "timestamp": 1671632429025,
     "user": {
      "displayName": "최종현",
      "userId": "11012889710026183783"
     },
     "user_tz": -540
    },
    "id": "Lbl6MCMIisWj",
    "outputId": "bd8b950e-8c6c-47e4-d16a-42cbfc51e138"
   },
   "outputs": [
    {
     "name": "stdout",
     "output_type": "stream",
     "text": [
      "linear.0.weight torch.Size([512, 784]) 401408\n",
      "linear.0.bias torch.Size([512]) 512\n",
      "linear.1.weight torch.Size([512]) 512\n",
      "linear.1.bias torch.Size([512]) 512\n",
      "linear.3.weight torch.Size([256, 512]) 131072\n",
      "linear.3.bias torch.Size([256]) 256\n",
      "linear.4.weight torch.Size([256]) 256\n",
      "linear.4.bias torch.Size([256]) 256\n",
      "linear.6.weight torch.Size([128, 256]) 32768\n",
      "linear.6.bias torch.Size([128]) 128\n",
      "linear.7.weight torch.Size([128]) 128\n",
      "linear.7.bias torch.Size([128]) 128\n",
      "linear.9.weight torch.Size([64, 128]) 8192\n",
      "linear.9.bias torch.Size([64]) 64\n",
      "Total number of parameters = 576192\n"
     ]
    }
   ],
   "source": [
    "total_params = 0\n",
    "for name, param in model.named_parameters():\n",
    "    print(name, param.shape, param.numel())\n",
    "    total_params += param.numel()\n",
    "print(f\"Total number of parameters = {total_params}\")"
   ]
  },
  {
   "cell_type": "code",
   "execution_count": 74,
   "metadata": {
    "executionInfo": {
     "elapsed": 665,
     "status": "ok",
     "timestamp": 1671632432822,
     "user": {
      "displayName": "최종현",
      "userId": "11012889710026183783"
     },
     "user_tz": -540
    },
    "id": "P_FJ8y7Xi30X"
   },
   "outputs": [],
   "source": [
    "import time\n",
    "\n",
    "from torch import optim\n",
    "# set up an optimizer (pass parameters to be optimized and a learning rate)\n",
    "optimizer = optim.Adam(model.parameters(), lr=0.0001)\n",
    "# define the loss\n",
    "criterion = nn.CrossEntropyLoss()"
   ]
  },
  {
   "cell_type": "code",
   "execution_count": 75,
   "metadata": {
    "colab": {
     "base_uri": "https://localhost:8080/"
    },
    "executionInfo": {
     "elapsed": 5,
     "status": "ok",
     "timestamp": 1671632433841,
     "user": {
      "displayName": "최종현",
      "userId": "11012889710026183783"
     },
     "user_tz": -540
    },
    "id": "BXqfDg7rjNOM",
    "outputId": "9f8c2e84-7594-4798-8a28-daee25eec977"
   },
   "outputs": [
    {
     "data": {
      "text/plain": [
       "fcn(\n",
       "  (linear): Sequential(\n",
       "    (0): Linear(in_features=784, out_features=512, bias=True)\n",
       "    (1): BatchNorm1d(512, eps=1e-05, momentum=0.1, affine=True, track_running_stats=True)\n",
       "    (2): ReLU()\n",
       "    (3): Linear(in_features=512, out_features=256, bias=True)\n",
       "    (4): BatchNorm1d(256, eps=1e-05, momentum=0.1, affine=True, track_running_stats=True)\n",
       "    (5): ReLU()\n",
       "    (6): Linear(in_features=256, out_features=128, bias=True)\n",
       "    (7): BatchNorm1d(128, eps=1e-05, momentum=0.1, affine=True, track_running_stats=True)\n",
       "    (8): ReLU()\n",
       "    (9): Linear(in_features=128, out_features=64, bias=True)\n",
       "  )\n",
       ")"
      ]
     },
     "execution_count": 75,
     "metadata": {},
     "output_type": "execute_result"
    }
   ],
   "source": [
    " import torch\n",
    " \n",
    " device = torch.device(\"cuda:0\" if torch.cuda.is_available() else \"cpu\") \n",
    " device\n",
    "\n",
    " model.to(device)"
   ]
  },
  {
   "cell_type": "code",
   "execution_count": 77,
   "metadata": {
    "colab": {
     "base_uri": "https://localhost:8080/"
    },
    "executionInfo": {
     "elapsed": 381927,
     "status": "ok",
     "timestamp": 1671632891051,
     "user": {
      "displayName": "최종현",
      "userId": "11012889710026183783"
     },
     "user_tz": -540
    },
    "id": "yvbkUfadjG9c",
    "outputId": "af17b451-406d-4138-b94d-9f290725e42a"
   },
   "outputs": [
    {
     "name": "stdout",
     "output_type": "stream",
     "text": [
      "Epoch: 01/30 | Train loss: 0.170 | Validation loss: 0.121 | Accuracy: 0.973\n",
      "Epoch: 02/30 | Train loss: 0.093 | Validation loss: 0.096 | Accuracy: 0.975\n",
      "Epoch: 03/30 | Train loss: 0.058 | Validation loss: 0.082 | Accuracy: 0.978\n",
      "Epoch: 04/30 | Train loss: 0.040 | Validation loss: 0.073 | Accuracy: 0.979\n",
      "Epoch: 05/30 | Train loss: 0.029 | Validation loss: 0.072 | Accuracy: 0.979\n",
      "Epoch: 06/30 | Train loss: 0.021 | Validation loss: 0.080 | Accuracy: 0.977\n",
      "Epoch: 07/30 | Train loss: 0.017 | Validation loss: 0.073 | Accuracy: 0.979\n",
      "Epoch: 08/30 | Train loss: 0.014 | Validation loss: 0.081 | Accuracy: 0.977\n",
      "Epoch: 09/30 | Train loss: 0.011 | Validation loss: 0.076 | Accuracy: 0.979\n",
      "Epoch: 10/30 | Train loss: 0.012 | Validation loss: 0.071 | Accuracy: 0.982\n",
      "Epoch: 11/30 | Train loss: 0.009 | Validation loss: 0.075 | Accuracy: 0.979\n",
      "Epoch: 12/30 | Train loss: 0.009 | Validation loss: 0.075 | Accuracy: 0.978\n",
      "Epoch: 13/30 | Train loss: 0.009 | Validation loss: 0.081 | Accuracy: 0.978\n",
      "Epoch: 14/30 | Train loss: 0.007 | Validation loss: 0.074 | Accuracy: 0.980\n",
      "Epoch: 15/30 | Train loss: 0.008 | Validation loss: 0.081 | Accuracy: 0.979\n",
      "Epoch: 16/30 | Train loss: 0.007 | Validation loss: 0.079 | Accuracy: 0.980\n",
      "Epoch: 17/30 | Train loss: 0.007 | Validation loss: 0.074 | Accuracy: 0.981\n",
      "Epoch: 18/30 | Train loss: 0.005 | Validation loss: 0.083 | Accuracy: 0.979\n",
      "Epoch: 19/30 | Train loss: 0.006 | Validation loss: 0.079 | Accuracy: 0.981\n",
      "Epoch: 20/30 | Train loss: 0.007 | Validation loss: 0.076 | Accuracy: 0.981\n",
      "Epoch: 21/30 | Train loss: 0.005 | Validation loss: 0.082 | Accuracy: 0.979\n",
      "Epoch: 22/30 | Train loss: 0.005 | Validation loss: 0.085 | Accuracy: 0.979\n",
      "Epoch: 23/30 | Train loss: 0.006 | Validation loss: 0.086 | Accuracy: 0.979\n",
      "Epoch: 24/30 | Train loss: 0.004 | Validation loss: 0.082 | Accuracy: 0.981\n",
      "Epoch: 25/30 | Train loss: 0.005 | Validation loss: 0.084 | Accuracy: 0.979\n",
      "Epoch: 26/30 | Train loss: 0.005 | Validation loss: 0.081 | Accuracy: 0.982\n",
      "Epoch: 27/30 | Train loss: 0.003 | Validation loss: 0.075 | Accuracy: 0.982\n",
      "Epoch: 28/30 | Train loss: 0.004 | Validation loss: 0.084 | Accuracy: 0.980\n",
      "Epoch: 29/30 | Train loss: 0.004 | Validation loss: 0.081 | Accuracy: 0.981\n",
      "Epoch: 30/30 | Train loss: 0.003 | Validation loss: 0.079 | Accuracy: 0.981\n",
      "Elapsed: 381.77 seconds\n"
     ]
    }
   ],
   "source": [
    "start_time = time.time()\n",
    "n_epochs = 30\n",
    "train_loss_history = []\n",
    "val_loss_history = []\n",
    "accuracy_history = []\n",
    "for epoch in range(n_epochs): \n",
    "  train_loss = 0\n",
    "  model.train()\n",
    "  for images, labels in trainloader:\n",
    "    images, labels = images.to(device), labels.to(device) # zero the gradients on each training pass\n",
    "    optimizer.zero_grad()\n",
    "    # make a forward pass through the network\n",
    "    logits = model.forward(images.view(-1, 28 * 28))\n",
    "    # use the network output to calculate the loss (output vs. ground truth)\n",
    "    loss = criterion(logits, labels)\n",
    "        # make a backward pass through the network to calculate the gradients (backpropagation)\n",
    "    loss.backward()\n",
    "    # update the weights\n",
    "    optimizer.step()\n",
    "    # keep track of the loss per epoch\n",
    "    train_loss += loss.item() \n",
    "  else:\n",
    "    train_loss = train_loss / len(trainloader)\n",
    "    train_loss_history.append(train_loss)\n",
    "    val_loss = 0\n",
    "    accuracy = 0\n",
    "    with torch.no_grad(): \n",
    "      model.eval()\n",
    "      for images, labels in valloader:\n",
    "        images, labels = images.to(device), labels.to(device) \n",
    "        logits = model.forward(images.view(-1, 28 * 28))\n",
    "        loss = criterion(logits, labels)\n",
    "        val_loss += loss.item()\n",
    "        probabilities = logits.softmax(dim=1)\n",
    "        top_probs, top_classes = probabilities.topk(k=1, dim=1)\n",
    "        corrects = (top_classes == labels.view(*top_classes.shape))          \n",
    "        accuracy += torch.mean(corrects.type(torch.FloatTensor))\n",
    "    val_loss = val_loss / len(valloader)\n",
    "    val_loss_history.append(val_loss)\n",
    "    accuracy = accuracy / len(valloader)\n",
    "    accuracy_history.append(accuracy)\n",
    "    metrics = f\"Epoch: {epoch + 1:02}/{n_epochs:02}\" \n",
    "    metrics += \" | \"\n",
    "    metrics += f\"Train loss: {train_loss:.3f}\" \n",
    "    metrics += \" | \"\n",
    "    metrics += f\"Validation loss: {val_loss:.3f}\" \n",
    "    metrics += \" | \"\n",
    "    metrics += f\"Accuracy: {accuracy:.3f}\" \n",
    "    print(metrics)\n",
    "print(\"Elapsed: {0:.2f} seconds\".format(time.time() - start_time))"
   ]
  },
  {
   "cell_type": "code",
   "execution_count": 78,
   "metadata": {
    "colab": {
     "base_uri": "https://localhost:8080/",
     "height": 402
    },
    "executionInfo": {
     "elapsed": 10,
     "status": "ok",
     "timestamp": 1671632920138,
     "user": {
      "displayName": "최종현",
      "userId": "11012889710026183783"
     },
     "user_tz": -540
    },
    "id": "TnVOvFDZ3vr0",
    "outputId": "ccafde33-950d-4ff7-da01-5f56f2cd05c8"
   },
   "outputs": [
    {
     "data": {
      "image/png": "[encoded data removed]",
      "text/plain": [
       "<Figure size 432x432 with 1 Axes>"
      ]
     },
     "metadata": {
      "image/png": {
       "height": 386,
       "width": 400
      },
      "needs_background": "light"
     },
     "output_type": "display_data"
    }
   ],
   "source": [
    "fig, ax = plt.subplots(figsize=(6,6))\n",
    "ax.plot(train_loss_history, label=\"Train Loss\")\n",
    "ax.plot(val_loss_history, label=\"Validation Loss\")\n",
    "ax.set_xlabel(\"epoch\")\n",
    "ax.set_ylabel(\"loss\")\n",
    "ax.set_title(\"Train Loss & Validation Loss\")\n",
    "ax.legend()\n",
    "plt.show()"
   ]
  },
  {
   "cell_type": "code",
   "execution_count": 79,
   "metadata": {
    "colab": {
     "base_uri": "https://localhost:8080/",
     "height": 292
    },
    "executionInfo": {
     "elapsed": 7,
     "status": "ok",
     "timestamp": 1671632920138,
     "user": {
      "displayName": "최종현",
      "userId": "11012889710026183783"
     },
     "user_tz": -540
    },
    "id": "bkmwRGct5TcR",
    "outputId": "f2e74dc3-a336-4acd-f364-1f5bf789eb12"
   },
   "outputs": [
    {
     "data": {
      "image/png": "[encoded data removed]",
      "text/plain": [
       "<Figure size 432x288 with 1 Axes>"
      ]
     },
     "metadata": {
      "image/png": {
       "height": 277,
       "width": 400
      },
      "needs_background": "light"
     },
     "output_type": "display_data"
    }
   ],
   "source": [
    "fig, ax = plt.subplots()\n",
    "ax.plot(accuracy_history, label=\"Accuracy\")\n",
    "ax.set_xlabel(\"epoch\")\n",
    "ax.set_ylabel(\"accuracy\")\n",
    "ax.set_title(\"Accuracy\")\n",
    "plt.show()"
   ]
  },
  {
   "cell_type": "code",
   "execution_count": 80,
   "metadata": {
    "executionInfo": {
     "elapsed": 7,
     "status": "ok",
     "timestamp": 1671632920139,
     "user": {
      "displayName": "최종현",
      "userId": "11012889710026183783"
     },
     "user_tz": -540
    },
    "id": "HqgaUpWk5U0f"
   },
   "outputs": [],
   "source": [
    "# download the testset\n",
    "testset = datasets.MNIST('.', download=True, train=False, transform=transform)\n",
    "# loader for the testset\n",
    "testloader = torch.utils.data.DataLoader( testset,\n",
    "batch_size=batch_size,\n",
    "shuffle=True\n",
    ")"
   ]
  },
  {
   "cell_type": "code",
   "execution_count": 83,
   "metadata": {
    "executionInfo": {
     "elapsed": 1721,
     "status": "ok",
     "timestamp": 1671632940751,
     "user": {
      "displayName": "최종현",
      "userId": "11012889710026183783"
     },
     "user_tz": -540
    },
    "id": "eXZq5QmE5W3i"
   },
   "outputs": [],
   "source": [
    "total = 0 \n",
    "total_corrects = 0 \n",
    "with torch.no_grad():\n",
    "  for images, labels in testloader:\n",
    "    images, labels = images.to(device), labels.to(device) \n",
    "    logits = model.forward(images.view(-1, 28 * 28))\n",
    "    probabilities = logits.softmax(dim=1)\n",
    "    top_probs, top_classes = probabilities.topk(k=1, dim=1)\n",
    "    corrects = (top_classes == labels.view(*top_classes.shape))\n",
    "    corrects = int(torch.sum(corrects).cpu().numpy())\n",
    "    total_corrects += corrects\n",
    "    total += labels.size(0)"
   ]
  },
  {
   "cell_type": "code",
   "execution_count": 84,
   "metadata": {
    "colab": {
     "base_uri": "https://localhost:8080/"
    },
    "executionInfo": {
     "elapsed": 15,
     "status": "ok",
     "timestamp": 1671632940752,
     "user": {
      "displayName": "최종현",
      "userId": "11012889710026183783"
     },
     "user_tz": -540
    },
    "id": "8JDWf75v5bsC",
    "outputId": "4a42dbcf-e942-4202-be5c-ea048c6ad98b"
   },
   "outputs": [
    {
     "data": {
      "text/plain": [
       "98.24000000000001"
      ]
     },
     "execution_count": 84,
     "metadata": {},
     "output_type": "execute_result"
    }
   ],
   "source": [
    "total_corrects / total * 100.0"
   ]
  },
  {
   "cell_type": "code",
   "execution_count": 85,
   "metadata": {
    "executionInfo": {
     "elapsed": 497,
     "status": "ok",
     "timestamp": 1671633082526,
     "user": {
      "displayName": "최종현",
      "userId": "11012889710026183783"
     },
     "user_tz": -540
    },
    "id": "qM6Zhk_Afwyz"
   },
   "outputs": [],
   "source": [
    "torch.save(model.state_dict(), '/content/drive/MyDrive/model_1211.pth')"
   ]
  },
  {
   "cell_type": "code",
   "execution_count": null,
   "metadata": {
    "id": "H57wkNGoGJIQ"
   },
   "outputs": [],
   "source": []
  }
 ],
 "metadata": {
  "accelerator": "GPU",
  "colab": {
   "authorship_tag": "ABX9TyNH5C3se242Y/67i0Ycw3xF",
   "provenance": [
    {
     "file_id": "1hf5-dVMmGBRcU9pIxK8Lfb5GytheIJLC",
     "timestamp": 1671630728531
    },
    {
     "file_id": "12Fi86zBAMhEyh2-yl9aB88cmoEUNYInw",
     "timestamp": 1671264257286
    },
    {
     "file_id": "1DewVgBXY_m4-P8xwMte46znY3UAxpJF8",
     "timestamp": 1671004109254
    },
    {
     "file_id": "1w6YLnL8eLGVwCNe58kd708BSdOpcojqQ",
     "timestamp": 1670998446701
    },
    {
     "file_id": "1Hmc5aDrn2-MZmY8skQwV1YK_A8R1qVIg",
     "timestamp": 1670856970414
    },
    {
     "file_id": "1aG1kvSwKldYXaMK_7TUZ-FsyJcD8wib-",
     "timestamp": 1669136745190
    }
   ]
  },
  "gpuClass": "standard",
  "kernelspec": {
   "display_name": "Python 3 (ipykernel)",
   "language": "python",
   "name": "python3"
  },
  "language_info": {
   "codemirror_mode": {
    "name": "ipython",
    "version": 3
   },
   "file_extension": ".py",
   "mimetype": "text/x-python",
   "name": "python",
   "nbconvert_exporter": "python",
   "pygments_lexer": "ipython3",
   "version": "3.9.12"
  }
 },
 "nbformat": 4,
 "nbformat_minor": 4
}
